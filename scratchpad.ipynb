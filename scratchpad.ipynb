{
 "cells": [
  {
   "cell_type": "code",
   "execution_count": 6,
   "metadata": {},
   "outputs": [],
   "source": [
    "import json\n",
    "import numpy as np"
   ]
  },
  {
   "cell_type": "code",
   "execution_count": 23,
   "metadata": {},
   "outputs": [],
   "source": [
    "solutions = json.loads(open(\"data/solutions.json\").read())"
   ]
  },
  {
   "cell_type": "code",
   "execution_count": 25,
   "metadata": {},
   "outputs": [],
   "source": [
    "# Function to process list of strings according to the rules for \"#\" character\n",
    "def process_strings(strings):\n",
    "    processed = []\n",
    "    for s in strings:\n",
    "        if s.startswith(\"#\"):\n",
    "            processed.append(\"#####\" + s[1:])\n",
    "        else:\n",
    "            processed.append(s.replace(\"#\", \"\\#\"))\n",
    "    return processed\n",
    "\n",
    "solutions['problem'] = process_strings(solutions['problem'])\n",
    "\n",
    "# write out cleaned solutions.json\n",
    "with open(\"data/solutions_cleaned.json\", \"w\") as f:\n",
    "    json.dump(solutions, f, indent=4)\n"
   ]
  },
  {
   "cell_type": "code",
   "execution_count": 109,
   "metadata": {},
   "outputs": [],
   "source": [
    "def select_problem_where_name(data, target_name):\n",
    "    for i, name in enumerate(data['name']):\n",
    "        if name == target_name:\n",
    "            return data['problem'][i]\n",
    "    return None\n",
    "\n",
    "\n",
    "data = json.loads(open('data/solutions.json').read())\n",
    "select_problem_where_name(data, \"add-two-numbers\")"
   ]
  },
  {
   "cell_type": "code",
   "execution_count": null,
   "metadata": {},
   "outputs": [],
   "source": []
  }
 ],
 "metadata": {
  "kernelspec": {
   "display_name": "venv",
   "language": "python",
   "name": "python3"
  },
  "language_info": {
   "codemirror_mode": {
    "name": "ipython",
    "version": 3
   },
   "file_extension": ".py",
   "mimetype": "text/x-python",
   "name": "python",
   "nbconvert_exporter": "python",
   "pygments_lexer": "ipython3",
   "version": "3.10.1"
  },
  "orig_nbformat": 4
 },
 "nbformat": 4,
 "nbformat_minor": 2
}
