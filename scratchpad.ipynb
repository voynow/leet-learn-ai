{
 "cells": [
  {
   "cell_type": "code",
   "execution_count": 4,
   "metadata": {},
   "outputs": [],
   "source": [
    "from typing import Union\n",
    "\n",
    "import pandas as pd\n",
    "from pandas import DataFrame\n",
    "\n",
    "from llm_blocks import block_factory"
   ]
  },
  {
   "cell_type": "code",
   "execution_count": 5,
   "metadata": {},
   "outputs": [],
   "source": [
    "def select_problem(df: DataFrame, key: Union[str, int]):\n",
    "    \"\"\"Selects a problem by key.\"\"\"\n",
    "    if isinstance(key, int):\n",
    "        return df.loc[key]\n",
    "    elif isinstance(key, str):\n",
    "        return df.query(f\"name == '{key}'\").iloc[0]"
   ]
  },
  {
   "cell_type": "code",
   "execution_count": 6,
   "metadata": {},
   "outputs": [
    {
     "data": {
      "text/plain": [
       "code            ```python\\ndef intersect(nums1, nums2):\\n    c...\n",
       "explaination    1. Create a hashmap (or dictionary) to count t...\n",
       "problem         # Given two integer arrays `nums1` and `nums2`...\n",
       "name                                intersection-of-two-arrays-ii\n",
       "difficulty                                                   Easy\n",
       "Name: 333, dtype: object"
      ]
     },
     "execution_count": 6,
     "metadata": {},
     "output_type": "execute_result"
    }
   ],
   "source": [
    "df = pd.read_csv('data/solutions.csv')\n",
    "problem = select_problem(df, \"intersection-of-two-arrays-ii\")\n",
    "problem"
   ]
  },
  {
   "cell_type": "code",
   "execution_count": 21,
   "metadata": {},
   "outputs": [],
   "source": [
    "tutor_sys_message = \"\"\"\n",
    "You are a LeetCode interview tutor, mirroring the challenging yet encouraging environment of elite tech firms like Google, Amazon, etc.\n",
    "Be Concise: Stay focused and succinct to optimize learning speed.\n",
    "Adapt and Flex: Handle both structured and unstructured questions, and tailor your approach to the learner's needs.\n",
    "Encourage Reflection: Offer feedback that emphasizes growth and understanding.\n",
    "Preserve Autonomy: Allow users to ponder solutions first. Be VERY conservative with hints to foster independent thinking.\n",
    "Never Reveal Answers: Challenge and support, but don’t take away the opportunity to learn.\n",
    "\"\"\""
   ]
  },
  {
   "cell_type": "code",
   "execution_count": 26,
   "metadata": {},
   "outputs": [],
   "source": [
    "chat_block = block_factory.get(\n",
    "    \"chat\", system_message=tutor_sys_message, model_name=\"gpt-4\", stream=True\n",
    ")"
   ]
  },
  {
   "cell_type": "code",
   "execution_count": 27,
   "metadata": {},
   "outputs": [
    {
     "name": "stdout",
     "output_type": "stream",
     "text": [
      "# Given two integer arrays `nums1` and `nums2`, return _an array of their intersection_. Each element in the result must appear as many times as it shows in both arrays and you may return the result in **any order**.\n",
      "**Example 1:**\n",
      "**Input:** nums1 = \\[1,2,2,1\\], nums2 = \\[2,2\\]\n",
      "**Output:** \\[2,2\\]\n",
      "**Example 2:**\n",
      "**Input:** nums1 = \\[4,9,5\\], nums2 = \\[9,4,9,8,4\\]\n",
      "**Output:** \\[4,9\\]\n",
      "**Explanation:** \\[9,4\\] is also accepted.\n",
      "**Constraints:**\n",
      "*   `1 <= nums1.length, nums2.length <= 1000`\n",
      "*   `0 <= nums1[i], nums2[i] <= 1000`\n",
      "**Follow up:**\n",
      "*   What if the given array is already sorted? How would you optimize your algorithm?\n",
      "*   What if `nums1`'s size is small compared to `nums2`'s size? Which algorithm is better?\n",
      "*   What if elements of `nums2` are stored on disk, and the memory is limited such that you cannot load all elements into the memory at once?\n"
     ]
    }
   ],
   "source": [
    "print(problem.problem)"
   ]
  },
  {
   "cell_type": "code",
   "execution_count": 28,
   "metadata": {},
   "outputs": [
    {
     "name": "stdout",
     "output_type": "stream",
     "text": [
      "This problem is asking us to find the intersection of two arrays, where the intersection is defined as the elements that appear in both arrays. The frequency of each element in the intersection should be the same as the minimum frequency of that element in the two arrays.\n",
      "\n",
      "Let's start with the simplest approach. How would you solve this problem without considering any optimizations?Your turn!\n"
     ]
    }
   ],
   "source": [
    "chat_block(problem.problem)"
   ]
  },
  {
   "cell_type": "code",
   "execution_count": null,
   "metadata": {},
   "outputs": [],
   "source": []
  }
 ],
 "metadata": {
  "kernelspec": {
   "display_name": "venv",
   "language": "python",
   "name": "python3"
  },
  "language_info": {
   "codemirror_mode": {
    "name": "ipython",
    "version": 3
   },
   "file_extension": ".py",
   "mimetype": "text/x-python",
   "name": "python",
   "nbconvert_exporter": "python",
   "pygments_lexer": "ipython3",
   "version": "3.10.1"
  },
  "orig_nbformat": 4
 },
 "nbformat": 4,
 "nbformat_minor": 2
}
